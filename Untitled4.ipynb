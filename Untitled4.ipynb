{
 "cells": [
  {
   "cell_type": "code",
   "execution_count": 1,
   "metadata": {
    "collapsed": false
   },
   "outputs": [
    {
     "name": "stdout",
     "output_type": "stream",
     "text": [
      "[12, 12, 12, 121, 2]\n"
     ]
    }
   ],
   "source": [
    "a = [12,12,12,121,2]\n",
    "print(a)"
   ]
  },
  {
   "cell_type": "code",
   "execution_count": 2,
   "metadata": {
    "collapsed": false
   },
   "outputs": [
    {
     "name": "stdout",
     "output_type": "stream",
     "text": [
      "[1, 12, 12, 121, 2]\n"
     ]
    }
   ],
   "source": [
    "a[0] = 1 \n",
    "print (a)"
   ]
  },
  {
   "cell_type": "code",
   "execution_count": 3,
   "metadata": {
    "collapsed": false
   },
   "outputs": [
    {
     "name": "stdout",
     "output_type": "stream",
     "text": [
      "(1, 2, 12, 12, [1, 12, 12, 121, 2])\n"
     ]
    }
   ],
   "source": [
    "b = (1,2,12,12,a)\n",
    "print(b)"
   ]
  },
  {
   "cell_type": "code",
   "execution_count": 4,
   "metadata": {
    "collapsed": false
   },
   "outputs": [
    {
     "name": "stdout",
     "output_type": "stream",
     "text": [
      "(1, 2, 12, 12, [2, 12, 12, 121, 2])\n"
     ]
    }
   ],
   "source": [
    "a[0] = 2\n",
    "print( b )"
   ]
  },
  {
   "cell_type": "code",
   "execution_count": 5,
   "metadata": {
    "collapsed": false
   },
   "outputs": [
    {
     "ename": "TypeError",
     "evalue": "'tuple' object does not support item assignment",
     "output_type": "error",
     "traceback": [
      "\u001b[0;31m---------------------------------------------------------------------------\u001b[0m",
      "\u001b[0;31mTypeError\u001b[0m                                 Traceback (most recent call last)",
      "\u001b[0;32m<ipython-input-5-b32a0ae15a46>\u001b[0m in \u001b[0;36m<module>\u001b[0;34m()\u001b[0m\n\u001b[0;32m----> 1\u001b[0;31m \u001b[0mb\u001b[0m\u001b[1;33m[\u001b[0m\u001b[1;36m0\u001b[0m\u001b[1;33m]\u001b[0m \u001b[1;33m=\u001b[0m \u001b[1;36m2\u001b[0m\u001b[1;33m\u001b[0m\u001b[0m\n\u001b[0m\u001b[1;32m      2\u001b[0m \u001b[0mprint\u001b[0m \u001b[1;33m(\u001b[0m \u001b[0mb\u001b[0m \u001b[1;33m)\u001b[0m\u001b[1;33m\u001b[0m\u001b[0m\n",
      "\u001b[0;31mTypeError\u001b[0m: 'tuple' object does not support item assignment"
     ]
    }
   ],
   "source": [
    "b[0] = 2\n",
    "print ( b )"
   ]
  },
  {
   "cell_type": "code",
   "execution_count": 7,
   "metadata": {
    "collapsed": false
   },
   "outputs": [
    {
     "name": "stdout",
     "output_type": "stream",
     "text": [
      "[2, 12, 12, 121, 2]\n"
     ]
    }
   ],
   "source": [
    "print ( a )"
   ]
  },
  {
   "cell_type": "code",
   "execution_count": 8,
   "metadata": {
    "collapsed": false
   },
   "outputs": [
    {
     "name": "stdout",
     "output_type": "stream",
     "text": [
      "(1, 2, 12, 12, [2, 12, 12, 121, 2])\n"
     ]
    }
   ],
   "source": [
    "print (b )"
   ]
  },
  {
   "cell_type": "code",
   "execution_count": 9,
   "metadata": {
    "collapsed": false
   },
   "outputs": [
    {
     "name": "stdout",
     "output_type": "stream",
     "text": [
      "{'mary', 'jim', 'jack', 'rose', 'tom', 'monica'}\n"
     ]
    }
   ],
   "source": [
    "student = {'tom',  'jim',  'mary', 'jack', 'rose', 'monica',}\n",
    "print ( student )"
   ]
  },
  {
   "cell_type": "code",
   "execution_count": 10,
   "metadata": {
    "collapsed": false
   },
   "outputs": [
    {
     "name": "stdout",
     "output_type": "stream",
     "text": [
      "tom\n"
     ]
    }
   ],
   "source": [
    "a = 'tom'\n",
    "print (a)"
   ]
  },
  {
   "cell_type": "code",
   "execution_count": 11,
   "metadata": {
    "collapsed": false
   },
   "outputs": [
    {
     "name": "stdout",
     "output_type": "stream",
     "text": [
      "{'mary', 'jim', 'jack', 'rose', 'tom', 'monica'}\n",
      "rose in the student \n"
     ]
    }
   ],
   "source": [
    "student = {'tom',  'jim',  'mary', 'jack', 'rose', 'monica'}\n",
    "print ( student )\n",
    "#chengyuan test\n",
    "if 'rose' in student :\n",
    "    print ( 'rose in the student ' )\n",
    "else :\n",
    "    print ( \"rose is not in the student\" ) \n",
    "    "
   ]
  },
  {
   "cell_type": "code",
   "execution_count": 12,
   "metadata": {
    "collapsed": false
   },
   "outputs": [
    {
     "name": "stdout",
     "output_type": "stream",
     "text": [
      "{'j', 'f', 'h', 'd', 's', 'g', 'a'}\n",
      "{'a', 'd', 'g'}\n",
      "{'j', 'f', 's', 'h'}\n",
      "{'a', 's', 'g', 'j', 'f', 'd', 'h'}\n",
      "{'a', 'd', 'g'}\n",
      "{'j', 'f', 'h', 's'}\n"
     ]
    }
   ],
   "source": [
    "a = set ('asdfghj')\n",
    "b = set ('adg')\n",
    "print ( a )\n",
    "print (b)\n",
    "print (a-b)\n",
    "print (a|b)\n",
    "print (a&b)\n",
    "print (a^b)"
   ]
  },
  {
   "cell_type": "code",
   "execution_count": 14,
   "metadata": {
    "collapsed": false
   },
   "outputs": [
    {
     "name": "stdout",
     "output_type": "stream",
     "text": [
      "['s', 'd', 'f', 'g', 'h', 'j'] ['a', 'd', 'f']\n"
     ]
    },
    {
     "ename": "TypeError",
     "evalue": "unsupported operand type(s) for -: 'list' and 'list'",
     "output_type": "error",
     "traceback": [
      "\u001b[0;31m---------------------------------------------------------------------------\u001b[0m",
      "\u001b[0;31mTypeError\u001b[0m                                 Traceback (most recent call last)",
      "\u001b[0;32m<ipython-input-14-2ebbf8fea61e>\u001b[0m in \u001b[0;36m<module>\u001b[0;34m()\u001b[0m\n\u001b[1;32m      2\u001b[0m \u001b[0mb\u001b[0m \u001b[1;33m=\u001b[0m \u001b[1;33m[\u001b[0m\u001b[1;34m'a'\u001b[0m\u001b[1;33m,\u001b[0m\u001b[1;34m'd'\u001b[0m\u001b[1;33m,\u001b[0m\u001b[1;34m'f'\u001b[0m\u001b[1;33m]\u001b[0m\u001b[1;33m\u001b[0m\u001b[0m\n\u001b[1;32m      3\u001b[0m \u001b[0mprint\u001b[0m \u001b[1;33m(\u001b[0m\u001b[0ma\u001b[0m\u001b[1;33m,\u001b[0m\u001b[0mb\u001b[0m\u001b[1;33m)\u001b[0m\u001b[1;33m\u001b[0m\u001b[0m\n\u001b[0;32m----> 4\u001b[0;31m \u001b[0mprint\u001b[0m \u001b[1;33m(\u001b[0m\u001b[0ma\u001b[0m\u001b[1;33m-\u001b[0m\u001b[0mb\u001b[0m\u001b[1;33m)\u001b[0m\u001b[1;33m\u001b[0m\u001b[0m\n\u001b[0m",
      "\u001b[0;31mTypeError\u001b[0m: unsupported operand type(s) for -: 'list' and 'list'"
     ]
    }
   ],
   "source": [
    "a = [\"s\" ,\"d\", \"f\", \"g\" ,\"h\", \"j\"]\n",
    "b = ['a','d','f']\n",
    "print (a,b)\n",
    "print (a-b)"
   ]
  },
  {
   "cell_type": "code",
   "execution_count": 23,
   "metadata": {
    "collapsed": false
   },
   "outputs": [
    {
     "name": "stdout",
     "output_type": "stream",
     "text": [
      "1 - cainiaotools\n",
      "2 - cainiaotools\n",
      "{'code': 1, 'site': 'www.runoob', 'name1': 'sd', 'name': 'runoob'}\n",
      "dict_keys(['code', 'site', 'name1', 'name'])\n",
      "dict_values([1, 'www.runoob', 'sd', 'runoob'])\n"
     ]
    }
   ],
   "source": [
    "dict = {}\n",
    "dict['one'] = \"1 - cainiaotools\"\n",
    "dict[2]     = '2 - cainiaotools'\n",
    "\n",
    "tinydict = {'name': 'runoob', 'code':1, 'site':'www.runoob','name1':'sd'}\n",
    "print (dict[ 'one' ])\n",
    "print (dict[2])\n",
    "print (tinydict)\n",
    "print (tinydict.keys())\n",
    "print (tinydict.values())\n",
    "\n"
   ]
  },
  {
   "cell_type": "code",
   "execution_count": 25,
   "metadata": {
    "collapsed": false
   },
   "outputs": [
    {
     "ename": "SyntaxError",
     "evalue": "invalid syntax (<ipython-input-25-5af253ec05dd>, line 1)",
     "output_type": "error",
     "traceback": [
      "\u001b[0;36m  File \u001b[0;32m\"<ipython-input-25-5af253ec05dd>\"\u001b[0;36m, line \u001b[0;32m1\u001b[0m\n\u001b[0;31m    $ python\u001b[0m\n\u001b[0m    ^\u001b[0m\n\u001b[0;31mSyntaxError\u001b[0m\u001b[0;31m:\u001b[0m invalid syntax\n"
     ]
    }
   ],
   "source": [
    "$ python\n"
   ]
  },
  {
   "cell_type": "code",
   "execution_count": null,
   "metadata": {
    "collapsed": true
   },
   "outputs": [],
   "source": []
  },
  {
   "cell_type": "code",
   "execution_count": 3,
   "metadata": {
    "collapsed": false
   },
   "outputs": [
    {
     "name": "stdout",
     "output_type": "stream",
     "text": [
      "1\n",
      "1\n",
      "2\n",
      "3\n",
      "5\n",
      "8\n"
     ]
    }
   ],
   "source": [
    "a,b = 0,1\n",
    "while b < 10:\n",
    "    print ( b )\n",
    "    a, b = b, a+b"
   ]
  },
  {
   "cell_type": "code",
   "execution_count": 7,
   "metadata": {
    "collapsed": false
   },
   "outputs": [
    {
     "name": "stdout",
     "output_type": "stream",
     "text": [
      "1\n",
      "2\n",
      "4\n",
      "8\n",
      "16\n",
      "32\n",
      "64\n",
      "128\n",
      "256\n",
      "512\n"
     ]
    }
   ],
   "source": [
    "a, b = 0,1\n",
    "while b< 1000:\n",
    "    print (b)\n",
    "    a = b\n",
    "    b = a+b"
   ]
  },
  {
   "cell_type": "code",
   "execution_count": 9,
   "metadata": {
    "collapsed": false
   },
   "outputs": [
    {
     "name": "stdout",
     "output_type": "stream",
     "text": [
      "1,2,4,8,16,32,64,128,256,512,"
     ]
    }
   ],
   "source": [
    "a, b = 0, 1\n",
    "while b<1000:\n",
    "    print ( b ,end = ',')\n",
    "    a = b \n",
    "    b = a+b"
   ]
  },
  {
   "cell_type": "code",
   "execution_count": 10,
   "metadata": {
    "collapsed": false
   },
   "outputs": [
    {
     "name": "stdout",
     "output_type": "stream",
     "text": [
      "1 - if expression condition is true\n",
      "100\n"
     ]
    }
   ],
   "source": [
    "x = 100\n",
    "if x:\n",
    "    print ('1 - if expression condition is true')\n",
    "    print ( x )\n",
    "\n",
    "y = 0\n",
    "if y:\n",
    "    print (\" 2-if expression condition is true \")\n",
    "    print ( y )\n",
    "    "
   ]
  },
  {
   "cell_type": "code",
   "execution_count": 17,
   "metadata": {
    "collapsed": false
   },
   "outputs": [
    {
     "name": "stdout",
     "output_type": "stream",
     "text": [
      " please input your dog s age 5\n",
      "\n",
      " like 14-years-old man \n",
      "press enter to qiut\n"
     ]
    },
    {
     "data": {
      "text/plain": [
       "''"
      ]
     },
     "execution_count": 17,
     "metadata": {},
     "output_type": "execute_result"
    }
   ],
   "source": [
    "age = int (input (\" please input your dog s age \"))\n",
    "print (\"\")\n",
    "if age < 0:\n",
    "    print (\" are you kiding me \")\n",
    "elif age ==5:\n",
    "    print (\" like 14-years-old man \")\n",
    "input (\"press enter to qiut\")\n",
    "    "
   ]
  },
  {
   "cell_type": "code",
   "execution_count": 20,
   "metadata": {
    "collapsed": false
   },
   "outputs": [
    {
     "name": "stdout",
     "output_type": "stream",
     "text": [
      "guess what number I got \n",
      " pleased input your guess number 8\n",
      " your nuber is too high\n",
      " pleased input your guess number 6\n",
      "your number is too low\n",
      " pleased input your guess number 7\n",
      "congratuation,you are right\n"
     ]
    }
   ],
   "source": [
    "number = 7\n",
    "guess = -1\n",
    "print ('guess what number I got ')\n",
    "while guess != number:\n",
    "    guess = int (input (\" pleased input your guess number \"))\n",
    "    if ( guess == number ):\n",
    "        print (\"congratuation,you are right\")\n",
    "    elif ( guess < number ):\n",
    "        print (\"your number is too low\")\n",
    "    elif (guess > number ):\n",
    "        print (\" your nuber is too high\")"
   ]
  },
  {
   "cell_type": "code",
   "execution_count": null,
   "metadata": {
    "collapsed": true
   },
   "outputs": [],
   "source": []
  },
  {
   "cell_type": "code",
   "execution_count": null,
   "metadata": {
    "collapsed": false
   },
   "outputs": [],
   "source": [
    "number = int (input (\" please input a number \"))\n",
    "if number % 2==0:\n",
    "    #if number % 3== 0:\n",
    "        print (\"your number can be % by number 2 3\")\n",
    "else :\n",
    "    print (\"fvrv\")\n",
    "\n",
    "\n",
    "\n",
    "\n"
   ]
  },
  {
   "cell_type": "code",
   "execution_count": null,
   "metadata": {
    "collapsed": true
   },
   "outputs": [],
   "source": []
  }
 ],
 "metadata": {
  "kernelspec": {
   "display_name": "Python [default]",
   "language": "python",
   "name": "python3"
  },
  "language_info": {
   "codemirror_mode": {
    "name": "ipython",
    "version": 3
   },
   "file_extension": ".py",
   "mimetype": "text/x-python",
   "name": "python",
   "nbconvert_exporter": "python",
   "pygments_lexer": "ipython3",
   "version": "3.5.2"
  }
 },
 "nbformat": 4,
 "nbformat_minor": 1
}
