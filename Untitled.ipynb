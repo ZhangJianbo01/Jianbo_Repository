{
 "cells": [
  {
   "cell_type": "code",
   "execution_count": 81,
   "metadata": {
    "collapsed": true
   },
   "outputs": [],
   "source": [
    "import pandas as pd"
   ]
  },
  {
   "cell_type": "code",
   "execution_count": 82,
   "metadata": {
    "collapsed": false
   },
   "outputs": [],
   "source": [
    "df = pd.read_excel(\"D:\\Data-sheet-STUDENTS.xlsx\",header=2,usecols=[0],names=[\"countries\"])   "
   ]
  },
  {
   "cell_type": "code",
   "execution_count": 83,
   "metadata": {
    "collapsed": false
   },
   "outputs": [
    {
     "data": {
      "text/plain": [
       "1                            Afghanistan\n",
       "2                                Albania\n",
       "3                                Armenia\n",
       "4                             Azerbaijan\n",
       "5                                Bahrain\n",
       "6                             Bangladesh\n",
       "7                                Belarus\n",
       "8                                 Bhutan\n",
       "9                 Bosnia and Herzegovina\n",
       "10                                Brunei\n",
       "11                              Bulgaria\n",
       "12                              Cambodia\n",
       "13                                 China\n",
       "14                               Croatia\n",
       "15                        Czech Republic\n",
       "16                            East Timor\n",
       "17                                 Egypt\n",
       "18                               Estonia\n",
       "19                      France (Not BRI)\n",
       "20                               Georgia\n",
       "21                     Germany (not BRI)\n",
       "22                               Hungary\n",
       "23                                 India\n",
       "24                             Indonesia\n",
       "25                                  Iran\n",
       "26                                  Iraq\n",
       "27                                Israel\n",
       "28                                Jordan\n",
       "29                            Kazakhstan\n",
       "30                                Kuwait\n",
       "                     ...                \n",
       "39                               Moldova\n",
       "40                              Mongolia\n",
       "41                            Montenegro\n",
       "42                               Myanmar\n",
       "43                                 Nepal\n",
       "44                                  Oman\n",
       "45                              Pakistan\n",
       "46                           Philippines\n",
       "47                                Poland\n",
       "48                                 Qatar\n",
       "49                               Romania\n",
       "50                                Russia\n",
       "51                          Saudi Arabia\n",
       "52                                Serbia\n",
       "53                             Singapore\n",
       "54                              Slovakia\n",
       "55                              Slovenia\n",
       "56                             Sri Lanka\n",
       "57                                 Syria\n",
       "58                            Tajikistan\n",
       "59                             Thailiand\n",
       "60              The United Arab Emirates\n",
       "61                                Turkey\n",
       "62                          Turkmenistan\n",
       "63              United Kingdom (Not BRI)\n",
       "64    United States of America (Not BRI)\n",
       "65                               Ukraine\n",
       "66                            Uzbekistan\n",
       "67                               Vietnam\n",
       "68                                 Yemen\n",
       "Name: countries, dtype: object"
      ]
     },
     "execution_count": 83,
     "metadata": {},
     "output_type": "execute_result"
    }
   ],
   "source": [
    "df[\"countries\"]"
   ]
  },
  {
   "cell_type": "code",
   "execution_count": 84,
   "metadata": {
    "collapsed": false
   },
   "outputs": [
    {
     "data": {
      "text/plain": [
       "{'Afghanistan': {},\n",
       " 'Albania': {},\n",
       " 'Armenia': {},\n",
       " 'Azerbaijan': {},\n",
       " 'Bahrain': {},\n",
       " 'Bangladesh': {},\n",
       " 'Belarus': {},\n",
       " 'Bhutan': {},\n",
       " 'Bosnia and Herzegovina': {},\n",
       " 'Brunei': {},\n",
       " 'Bulgaria': {},\n",
       " 'Cambodia': {},\n",
       " 'China': {},\n",
       " 'Croatia': {},\n",
       " 'Czech Republic': {},\n",
       " 'East Timor': {},\n",
       " 'Egypt': {},\n",
       " 'Estonia': {},\n",
       " 'France (Not BRI)': {},\n",
       " 'Georgia': {},\n",
       " 'Germany (not BRI)': {},\n",
       " 'Hungary': {},\n",
       " 'India': {},\n",
       " 'Indonesia': {},\n",
       " 'Iran': {},\n",
       " 'Iraq': {},\n",
       " 'Israel': {},\n",
       " 'Jordan': {},\n",
       " 'Kazakhstan': {},\n",
       " 'Kuwait': {},\n",
       " 'Kyrgyzstan': {},\n",
       " 'Laos': {},\n",
       " 'Latvia': {},\n",
       " 'Lebanon': {},\n",
       " 'Lithuania': {},\n",
       " 'Macedonia': {},\n",
       " 'Malaysia': {},\n",
       " 'Maldives': {},\n",
       " 'Moldova': {},\n",
       " 'Mongolia': {},\n",
       " 'Montenegro': {},\n",
       " 'Myanmar': {},\n",
       " 'Nepal': {},\n",
       " 'Oman': {},\n",
       " 'Pakistan': {},\n",
       " 'Philippines': {},\n",
       " 'Poland': {},\n",
       " 'Qatar': {},\n",
       " 'Romania': {},\n",
       " 'Russia': {},\n",
       " 'Saudi Arabia': {},\n",
       " 'Serbia': {},\n",
       " 'Singapore': {},\n",
       " 'Slovakia': {},\n",
       " 'Slovenia': {},\n",
       " 'Sri Lanka': {},\n",
       " 'Syria': {},\n",
       " 'Tajikistan': {},\n",
       " 'Thailiand': {},\n",
       " 'The United Arab Emirates': {},\n",
       " 'Turkey': {},\n",
       " 'Turkmenistan': {},\n",
       " 'Ukraine': {},\n",
       " 'United Kingdom (Not BRI)': {},\n",
       " 'United States of America (Not BRI)': {},\n",
       " 'Uzbekistan': {},\n",
       " 'Vietnam': {},\n",
       " 'Yemen': {}}"
      ]
     },
     "execution_count": 84,
     "metadata": {},
     "output_type": "execute_result"
    }
   ],
   "source": [
    "countries={}\n",
    "for country in df['countries']:\n",
    "    countries[country] = {}\n",
    "countries"
   ]
  },
  {
   "cell_type": "code",
   "execution_count": 85,
   "metadata": {
    "collapsed": false
   },
   "outputs": [
    {
     "name": "stdout",
     "output_type": "stream",
     "text": [
      "Poland PL\n"
     ]
    }
   ],
   "source": [
    "import requests\n",
    "test_country=list(countries.keys())[0]\n",
    "url=\"https://restcountries.eu/rest/v2/name/\"+test_country\n",
    "r=requests.get(url)\n",
    "data=r.json()\n",
    "print(test_country,data[0][\"alpha2Code\"])"
   ]
  },
  {
   "cell_type": "code",
   "execution_count": 86,
   "metadata": {
    "collapsed": false,
    "scrolled": true
   },
   "outputs": [
    {
     "name": "stdout",
     "output_type": "stream",
     "text": [
      "{'status': 404, 'message': 'Not Found'}\n",
      "{'status': 404, 'message': 'Not Found'}\n",
      "{'status': 404, 'message': 'Not Found'}\n",
      "{'status': 404, 'message': 'Not Found'}\n",
      "{'status': 404, 'message': 'Not Found'}\n",
      "{'status': 404, 'message': 'Not Found'}\n",
      "\n"
     ]
    }
   ],
   "source": [
    "import requests\n",
    "from tqdm import tnrange,tqdm_notebook\n",
    "from time import sleep\n",
    "for i in tnrange(len(countries.keys())):\n",
    "    try:\n",
    "        country = list(countries.keys())[i]\n",
    "        url=\"https://restcountries.eu/rest/v2/name/\"+country\n",
    "        r=requests.get(url)\n",
    "        data=r.json()\n",
    "        countries[country][\"alpha2Code\"]=data[0][\"alpha2Code\"]\n",
    "    except KeyError:\n",
    "        print(data)\n",
    "        sleep(5)"
   ]
  },
  {
   "cell_type": "code",
   "execution_count": 87,
   "metadata": {
    "collapsed": false
   },
   "outputs": [],
   "source": [
    "for k,v in countries.items():\n",
    "    country = \"\"\n",
    "if len(v.keys())== 0:\n",
    "    if 'not bri' in k.lower():\n",
    "         country = k.split('(')[0].strip()\n",
    "    elif k =='thailand':\n",
    "        country= 'thailand'\n",
    "    else:\n",
    "        country=k[4:]\n",
    "    try: \n",
    "        url=\"https://restcountries.eu/rest/v2/name/\"+country\n",
    "        r=requests.get(url)\n",
    "        data=r.json()\n",
    "        countries[country][\"alpha2Code\"]=data[0][\"alpha2Code\"]\n",
    "    except KeyError:\n",
    "        print(data)\n",
    "        sleep(5)\n",
    "         \n",
    "            "
   ]
  },
  {
   "cell_type": "code",
   "execution_count": 88,
   "metadata": {
    "collapsed": false
   },
   "outputs": [
    {
     "data": {
      "text/plain": [
       "{'Afghanistan': {'alpha2Code': 'AF'},\n",
       " 'Albania': {'alpha2Code': 'AL'},\n",
       " 'Armenia': {'alpha2Code': 'AM'},\n",
       " 'Azerbaijan': {'alpha2Code': 'AZ'},\n",
       " 'Bahrain': {'alpha2Code': 'BH'},\n",
       " 'Bangladesh': {'alpha2Code': 'BD'},\n",
       " 'Belarus': {'alpha2Code': 'BY'},\n",
       " 'Bhutan': {'alpha2Code': 'BT'},\n",
       " 'Bosnia and Herzegovina': {'alpha2Code': 'BA'},\n",
       " 'Brunei': {'alpha2Code': 'BN'},\n",
       " 'Bulgaria': {'alpha2Code': 'BG'},\n",
       " 'Cambodia': {'alpha2Code': 'KH'},\n",
       " 'China': {'alpha2Code': 'CN'},\n",
       " 'Croatia': {'alpha2Code': 'HR'},\n",
       " 'Czech Republic': {'alpha2Code': 'CZ'},\n",
       " 'East Timor': {'alpha2Code': 'TL'},\n",
       " 'Egypt': {'alpha2Code': 'EG'},\n",
       " 'Estonia': {'alpha2Code': 'EE'},\n",
       " 'France (Not BRI)': {},\n",
       " 'Georgia': {'alpha2Code': 'GE'},\n",
       " 'Germany (not BRI)': {},\n",
       " 'Hungary': {'alpha2Code': 'HU'},\n",
       " 'India': {'alpha2Code': 'IO'},\n",
       " 'Indonesia': {'alpha2Code': 'ID'},\n",
       " 'Iran': {'alpha2Code': 'IR'},\n",
       " 'Iraq': {'alpha2Code': 'IQ'},\n",
       " 'Israel': {'alpha2Code': 'IL'},\n",
       " 'Jordan': {'alpha2Code': 'JO'},\n",
       " 'Kazakhstan': {'alpha2Code': 'KZ'},\n",
       " 'Kuwait': {'alpha2Code': 'KW'},\n",
       " 'Kyrgyzstan': {'alpha2Code': 'KG'},\n",
       " 'Laos': {'alpha2Code': 'LA'},\n",
       " 'Latvia': {'alpha2Code': 'LV'},\n",
       " 'Lebanon': {'alpha2Code': 'LB'},\n",
       " 'Lithuania': {'alpha2Code': 'LT'},\n",
       " 'Macedonia': {'alpha2Code': 'MK'},\n",
       " 'Malaysia': {'alpha2Code': 'MY'},\n",
       " 'Maldives': {'alpha2Code': 'MV'},\n",
       " 'Moldova': {'alpha2Code': 'MD'},\n",
       " 'Mongolia': {'alpha2Code': 'MN'},\n",
       " 'Montenegro': {'alpha2Code': 'ME'},\n",
       " 'Myanmar': {'alpha2Code': 'MM'},\n",
       " 'Nepal': {'alpha2Code': 'NP'},\n",
       " 'Oman': {'alpha2Code': 'OM'},\n",
       " 'Pakistan': {'alpha2Code': 'PK'},\n",
       " 'Philippines': {'alpha2Code': 'PH'},\n",
       " 'Poland': {'alpha2Code': 'PL'},\n",
       " 'Qatar': {'alpha2Code': 'QA'},\n",
       " 'Romania': {'alpha2Code': 'RO'},\n",
       " 'Russia': {'alpha2Code': 'RU'},\n",
       " 'Saudi Arabia': {'alpha2Code': 'SA'},\n",
       " 'Serbia': {'alpha2Code': 'RS'},\n",
       " 'Singapore': {'alpha2Code': 'SG'},\n",
       " 'Slovakia': {'alpha2Code': 'SK'},\n",
       " 'Slovenia': {'alpha2Code': 'SI'},\n",
       " 'Sri Lanka': {'alpha2Code': 'LK'},\n",
       " 'Syria': {'alpha2Code': 'SY'},\n",
       " 'Tajikistan': {'alpha2Code': 'TJ'},\n",
       " 'Thailiand': {},\n",
       " 'The United Arab Emirates': {},\n",
       " 'Turkey': {'alpha2Code': 'TR'},\n",
       " 'Turkmenistan': {'alpha2Code': 'TM'},\n",
       " 'Ukraine': {'alpha2Code': 'UA'},\n",
       " 'United Kingdom (Not BRI)': {},\n",
       " 'United States of America (Not BRI)': {},\n",
       " 'Uzbekistan': {'alpha2Code': 'UZ'},\n",
       " 'Vietnam': {'alpha2Code': 'VN'},\n",
       " 'Yemen': {'alpha2Code': 'YE'}}"
      ]
     },
     "execution_count": 88,
     "metadata": {},
     "output_type": "execute_result"
    }
   ],
   "source": [
    "countries"
   ]
  },
  {
   "cell_type": "code",
   "execution_count": 91,
   "metadata": {
    "collapsed": false
   },
   "outputs": [
    {
     "name": "stdout",
     "output_type": "stream",
     "text": [
      "India has an index problem [{'message': [{'value': 'The provided parameter value is not valid', 'id': '120', 'key': 'Invalid value'}]}]\n"
     ]
    },
    {
     "ename": "KeyError",
     "evalue": "'alpha2Code'",
     "output_type": "error",
     "traceback": [
      "\u001b[0;31m---------------------------------------------------------------------------\u001b[0m",
      "\u001b[0;31mKeyError\u001b[0m                                  Traceback (most recent call last)",
      "\u001b[0;32m<ipython-input-91-bc83e601fa91>\u001b[0m in \u001b[0;36m<module>\u001b[0;34m()\u001b[0m\n\u001b[1;32m      1\u001b[0m \u001b[1;32mfor\u001b[0m \u001b[0mk\u001b[0m\u001b[1;33m,\u001b[0m\u001b[0mv\u001b[0m \u001b[1;32min\u001b[0m \u001b[0mcountries\u001b[0m\u001b[1;33m.\u001b[0m\u001b[0mitems\u001b[0m\u001b[1;33m(\u001b[0m\u001b[1;33m)\u001b[0m\u001b[1;33m:\u001b[0m\u001b[1;33m\u001b[0m\u001b[0m\n\u001b[1;32m      2\u001b[0m     \u001b[1;32mtry\u001b[0m\u001b[1;33m:\u001b[0m\u001b[1;33m\u001b[0m\u001b[0m\n\u001b[0;32m----> 3\u001b[0;31m         \u001b[0murl\u001b[0m\u001b[1;33m=\u001b[0m\u001b[1;34m\"http://api.worldbank.org/v2/countries/\"\u001b[0m\u001b[1;33m+\u001b[0m\u001b[0mv\u001b[0m\u001b[1;33m[\u001b[0m\u001b[1;34m'alpha2Code'\u001b[0m\u001b[1;33m]\u001b[0m\u001b[1;33m+\u001b[0m\u001b[1;34m\"/indicators/NY.GDP.MKTP.CD?format=json\"\u001b[0m\u001b[1;33m\u001b[0m\u001b[0m\n\u001b[0m\u001b[1;32m      4\u001b[0m         \u001b[0mr\u001b[0m\u001b[1;33m=\u001b[0m\u001b[0mrequests\u001b[0m\u001b[1;33m.\u001b[0m\u001b[0mget\u001b[0m\u001b[1;33m(\u001b[0m\u001b[0murl\u001b[0m\u001b[1;33m)\u001b[0m\u001b[1;33m\u001b[0m\u001b[0m\n\u001b[1;32m      5\u001b[0m         \u001b[0mdata\u001b[0m\u001b[1;33m=\u001b[0m\u001b[0mr\u001b[0m\u001b[1;33m.\u001b[0m\u001b[0mjson\u001b[0m\u001b[1;33m(\u001b[0m\u001b[1;33m)\u001b[0m\u001b[1;33m\u001b[0m\u001b[0m\n",
      "\u001b[0;31mKeyError\u001b[0m: 'alpha2Code'"
     ]
    }
   ],
   "source": [
    "for k,v in countries.items():\n",
    "    try:\n",
    "        url=\"http://api.worldbank.org/v2/countries/\"+v['alpha2Code']+\"/indicators/NY.GDP.MKTP.CD?format=json\"\n",
    "        r=requests.get(url)\n",
    "        data=r.json()\n",
    "        countries[k][\"gdp\"]=float(data[1][0][\"value\"])\n",
    "        sleep(2)\n",
    "    except IndexError:\n",
    "        print(k,\"has an index problem\",data)\n",
    "    except TypeError:\n",
    "        print(k,\"has an type problem\",data)\n",
    "    "
   ]
  },
  {
   "cell_type": "code",
   "execution_count": null,
   "metadata": {
    "collapsed": true
   },
   "outputs": [],
   "source": [
    "countries\n"
   ]
  },
  {
   "cell_type": "code",
   "execution_count": null,
   "metadata": {
    "collapsed": false
   },
   "outputs": [],
   "source": [
    "countries['india']['alpha2Code']='IN'\n",
    " url = 'http://api.worldbank.org/v2/countries/IN/indicators/NY.GDP.MKTP.CD?format=json'\n",
    "    r=requests.get(url)\n",
    "    data = r.json()\n",
    "    countries[india']['gdp']=float(data[1][0]['value'])"
   ]
  },
  {
   "cell_type": "code",
   "execution_count": 92,
   "metadata": {
    "collapsed": false
   },
   "outputs": [
    {
     "data": {
      "text/plain": [
       "'IO'"
      ]
     },
     "execution_count": 92,
     "metadata": {},
     "output_type": "execute_result"
    }
   ],
   "source": [
    "countries['India'].pop('alpha2Code')"
   ]
  },
  {
   "cell_type": "code",
   "execution_count": null,
   "metadata": {
    "collapsed": true
   },
   "outputs": [],
   "source": []
  }
 ],
 "metadata": {
  "anaconda-cloud": {},
  "kernelspec": {
   "display_name": "Python [default]",
   "language": "python",
   "name": "python3"
  },
  "language_info": {
   "codemirror_mode": {
    "name": "ipython",
    "version": 3
   },
   "file_extension": ".py",
   "mimetype": "text/x-python",
   "name": "python",
   "nbconvert_exporter": "python",
   "pygments_lexer": "ipython3",
   "version": "3.5.2"
  }
 },
 "nbformat": 4,
 "nbformat_minor": 1
}
